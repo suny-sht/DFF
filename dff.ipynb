{
 "cells": [
  {
   "cell_type": "markdown",
   "metadata": {
    "collapsed": true,
    "pycharm": {
     "name": "#%% md\n"
    }
   },
   "source": [
    "# Deep Feature Factorization\n",
    "\n",
    "Introduced in the paper:<br>\n",
    "> Edo Collins, Radhakrishna Achanta and Sabine Süsstrunk. _Deep Feature Factorization for Concept Discovery_.  European Conference on Computer Vision (ECCV) 2018.\n",
    "\n",
    "\n",
    "**DFF** is the application of non-negative matrix faxtorization (NMF) to the ReLU feature activations of a deep neural network. In the case of CNNs trained on images, the resulting factors decompose an image batch into semenatic parts with a high degree of invariance to complex transformations.\n",
    "\n",
    "The geometry of ReLU activations plays a crucial role in creating favorable conditions for NMF. In particular, the \"true\" sparsity induced by ReLUs constrains the possible solutions to NMF and makes the factorization problem more well-posed.\n",
    "\n",
    "The implementation below relies on Pytorch and includes a GPU implementation of NMF with multiplicative updates (Lee and Seung, 2001)."
   ]
  },
  {
   "cell_type": "code",
   "execution_count": null,
   "outputs": [],
   "source": [
    "import os, time\n",
    "\n",
    "import numpy as np\n",
    "from matplotlib import pyplot as plt\n",
    "%matplotlib inline\n",
    "\n",
    "import torch\n",
    "from torchvision import models\n",
    "import torch.nn.functional as F\n",
    "from nmf import NMF\n",
    "from utils import imresize, show_heatmaps\n",
    "#from kmeans_pytorch import kmeans\n",
    "from sklearn.cluster import KMeans\n",
    "!pip install git+https://github.com/wielandbrendel/bag-of-local-features-models.git\n",
    "import bagnets.pytorchnet\n",
    "import random"
   ],
   "metadata": {
    "collapsed": false,
    "pycharm": {
     "name": "#%%\n"
    }
   }
  },
  {
   "cell_type": "code",
   "execution_count": null,
   "outputs": [],
   "source": [
    "# CUDA flag. Speed-up due to CUDA is mostly noticable for large batches.\n",
    "cuda = False"
   ],
   "metadata": {
    "collapsed": false,
    "pycharm": {
     "name": "#%%\n"
    }
   }
  },
  {
   "cell_type": "code",
   "source": [
    "maxpool = torch.nn.MaxPool2d(kernel_size = (3, 1), stride = (1, 1), padding = (1,0))"
   ],
   "metadata": {
    "collapsed": false,
    "pycharm": {
     "name": "#%% \n"
    }
   },
   "execution_count": null,
   "outputs": []
  },
  {
   "cell_type": "markdown",
   "source": [
    "## some flags"
   ],
   "metadata": {
    "collapsed": false,
    "pycharm": {
     "name": "#%% md\n"
    }
   }
  },
  {
   "cell_type": "code",
   "execution_count": null,
   "outputs": [],
   "source": [
    "MAXPOOL = True\n",
    "PREPARED_IMGS = True\n",
    "NUM_IMGS = 150"
   ],
   "metadata": {
    "collapsed": false,
    "pycharm": {
     "name": "#%%\n"
    }
   }
  },
  {
   "cell_type": "markdown",
   "source": [
    "### Load and pre-process the data"
   ],
   "metadata": {
    "collapsed": false,
    "pycharm": {
     "name": "#%% md\n"
    }
   }
  },
  {
   "cell_type": "code",
   "execution_count": null,
   "outputs": [],
   "source": [
    "data_path = '/scratch/local/hdd/suny/Dante_new_images_WB/' # Exmaple data from the iCoseg dataset: http://chenlab.ece.cornell.edu/projects/touch-coseg/\n",
    "filenames = []\n",
    "folders = os.listdir(data_path)\n",
    "\n",
    "filenames = []\n",
    "for folder in folders:\n",
    "    files = os.listdir(os.path.join(data_path, folder))\n",
    "    filenames = filenames + [os.path.join(data_path, folder, file) for file in files]\n",
    "\n",
    "print(filenames) "
   ],
   "metadata": {
    "collapsed": false,
    "pycharm": {
     "name": "#%%\n"
    }
   }
  },
  {
   "cell_type": "code",
   "execution_count": null,
   "outputs": [],
   "source": [
    "size = (350, 350)"
   ],
   "metadata": {
    "collapsed": false,
    "pycharm": {
     "name": "#%%\n"
    }
   }
  },
  {
   "cell_type": "code",
   "execution_count": null,
   "outputs": [],
   "source": [
    "if PREPARED_IMGS:\n",
    "    images = np.load(\"/scratch/local/hdd/suny/np_imgs/500imgs_250x250.npy\")\n",
    "else:    \n",
    "    # Load images \n",
    "    raw_images = [plt.imread(filename) for filename in random.sample(filenames,500)]  \n",
    "    raw_images = [imresize(img, size[0], size[1], crop = True) for img in raw_images] # resize  \n",
    "    raw_images = np.stack(raw_images)\n",
    "\n",
    "    # Preprocess\n",
    "    images = raw_images.transpose((0,3,1,2)).astype('float32') # to numpy, NxCxHxW, float32\n",
    "    images -= np.array([0.485, 0.456, 0.406]).reshape((1,3,1,1)) # zero mean\n",
    "    images /= np.array([0.229, 0.224, 0.225]).reshape((1,3,1,1)) # unit variance\n",
    "\n",
    "    np.save(\"/scratch/local/hdd/suny/np_imgs/500imgs_450x450\", images)\n",
    "    \n",
    "images = images[:NUM_IMGS]   \n",
    "raw_images = images\n",
    "raw_images *= np.array([0.229, 0.224, 0.225]).reshape((1,3,1,1))\n",
    "raw_images += np.array([0.485, 0.456, 0.406]).reshape((1,3,1,1))\n",
    "raw_images = raw_images.transpose((0,2,3,1))*255#[img.transpose((0,2,3,1)) for img in images]\n",
    "images = torch.from_numpy(images) # convert to Pytorch tensor\n",
    "if cuda:\n",
    "    images = images.cuda()\n",
    "    \n",
    "images.shape"
   ],
   "metadata": {
    "collapsed": false,
    "pycharm": {
     "name": "#%%\n"
    }
   }
  },
  {
   "cell_type": "markdown",
   "source": [
    "### Load network and extract features"
   ],
   "metadata": {
    "collapsed": false
   }
  },
  {
   "cell_type": "markdown",
   "source": [
    "# VGG19"
   ],
   "metadata": {
    "collapsed": false,
    "pycharm": {
     "name": "#%% md\n"
    }
   }
  },
  {
   "cell_type": "code",
   "execution_count": null,
   "outputs": [],
   "source": [
    "net = models.vgg19(pretrained=True) # load pre-trained VGG-19\n",
    "if cuda:\n",
    "    net = net.cuda()\n",
    "del net.features._modules['36'] # remove max-pooling after final conv layer"
   ],
   "metadata": {
    "collapsed": false,
    "pycharm": {
     "name": "#%%\n"
    }
   }
  },
  {
   "cell_type": "code",
   "execution_count": null,
   "outputs": [],
   "source": [
    "for name, parameter in net.named_parameters():\n",
    "    print(name)"
   ],
   "metadata": {
    "collapsed": false,
    "pycharm": {
     "name": "#%% \n"
    }
   }
  },
  {
   "cell_type": "code",
   "execution_count": null,
   "outputs": [],
   "source": [
    "num_f_layer = 9\n",
    "\n",
    "f_layers = [0, 2, 5, 6, 10, 12, 14, 16, 19, 21, 23, 25, 28, 30, 32, 34]\n",
    "layers = [str(i) for i in range(35)]\n",
    "num_layers = f_layers[num_f_layer]\n",
    "\n",
    "\n",
    "with torch.no_grad(): \n",
    "    features = net.features._modules['0'](images)\n",
    "    for i in range(1, num_layers):\n",
    "        features = net.features._modules[layers[i]](features)\n",
    "        print(layers[i])\n",
    "    flat_features = features.permute(0, 2, 3, 1).contiguous().view((-1, features.size(1))) # NxCxHxW -> (N*H*W)xC\n",
    "\n",
    "print('Reshaped features from {0}x{1}x{2}x{3} to ({0}*{2}*{3})x{1} = {4}x{1}'.format(*features.shape, flat_features.size(0)))"
   ],
   "metadata": {
    "collapsed": false,
    "pycharm": {
     "name": "#%%\n"
    }
   }
  },
  {
   "cell_type": "code",
   "execution_count": null,
   "outputs": [],
   "source": [
    "# Show original images\n",
    "show = 5\n",
    "show_heatmaps(raw_images[:show], None, 0, enhance=1)\n",
    "\n",
    "# Run NMF with K=(1,2,3,4) Note: the permutation of factors is random and is not consistent across iterations\n",
    "for K in range(1,5):\n",
    "    with torch.no_grad():\n",
    "        W, _ = NMF(flat_features, K, random_seed=0, cuda=cuda, max_iter=50)\n",
    "\n",
    "    heatmaps = W.cpu().view(features.size(0), features.size(2), features.size(3), K).permute(0,3,1,2) # (N*H*W)xK -> NxKxHxW\n",
    "    print(heatmaps.shape)\n",
    "    heatmaps = heatmaps[:show]\n",
    "    print(heatmaps.shape)\n",
    "    heatmaps = torch.nn.functional.interpolate(heatmaps, size=size, mode='nearest', align_corners=None) ## 14x14 -> 224x224\n",
    "    heatmaps /= heatmaps.max(dim=3, keepdim=True)[0].max(dim=2, keepdim=True)[0] # normalize by factor (i.e., 1 of K)\n",
    "    heatmaps = heatmaps.cpu().numpy()\n",
    "    \n",
    "    # Show heat maps\n",
    "    show_heatmaps(raw_images[:show], heatmaps, K,  title='$k$ = {}'.format(K), enhance=0.3) "
   ],
   "metadata": {
    "collapsed": false,
    "pycharm": {
     "name": "#%%\n"
    }
   }
  },
  {
   "cell_type": "markdown",
   "source": [
    "# BagNet33"
   ],
   "metadata": {
    "collapsed": false,
    "pycharm": {
     "name": "#%% md\n"
    }
   }
  },
  {
   "cell_type": "code",
   "execution_count": null,
   "outputs": [],
   "source": [
    "net = bagnets.pytorchnet.bagnet33(pretrained=True) # load pre-trained bagnet-19\n",
    "if cuda:\n",
    "    net = net.cuda()\n",
    "for name, parameter in net.named_parameters():\n",
    "    print(name)\n",
    "    "
   ],
   "metadata": {
    "collapsed": false,
    "pycharm": {
     "name": "#%%\n"
    }
   }
  },
  {
   "cell_type": "markdown",
   "source": [
    "## w/ Spatial features"
   ],
   "metadata": {
    "collapsed": false,
    "pycharm": {
     "name": "#%% md\n"
    }
   }
  },
  {
   "cell_type": "code",
   "execution_count": null,
   "outputs": [],
   "source": [
    "with torch.no_grad(): \n",
    "    features = net.conv1(images)\n",
    "    features = net.conv2(features)\n",
    "    features = net.bn1(features)\n",
    "    features = net.layer1(features) \n",
    "    features = net.layer2(features)\n",
    "    features = net.layer3._modules[\"0\"](features)\n",
    "    features = net.layer3._modules[\"1\"](features)\n",
    "    #features = net.layer3._modules[\"2\"](features)\n",
    "    #features = net.layer3(features)\n",
    "    #features = net.layer4(features)\n",
    "print(features.shape)\n",
    "permuted_features = features.permute(0, 2, 3, 1)\n",
    "spatial_features = torch.ones([permuted_features.shape[1], permuted_features.shape[2], 2]).cuda()\n",
    "vals = np.zeros(26)#np.arange(0, 0, 1/spatial_features.shape[0]).tolist()\n",
    "\n",
    "for i in range(spatial_features.shape[0]):\n",
    "    for j in range(spatial_features.shape[1]):\n",
    "        spatial_features[i][j][0] = vals[i]\n",
    "        spatial_features[i][j][1] = vals[j]\n",
    "\n",
    "new_features = torch.zeros([permuted_features.shape[0],permuted_features.shape[1],permuted_features.shape[2],permuted_features.shape[3]+2]).cuda()\n",
    "print(new_features.shape)\n",
    "for i in range(permuted_features.shape[0]):     \n",
    "    new_features[i,:,:,:] = torch.cat([permuted_features[i,:,:,:], spatial_features], dim=-1)\n",
    "        \n",
    "print(permuted_features.shape)    \n",
    "flat_features = new_features.contiguous().view((-1, new_features.size(-1))) # NxCxHxW -> (N*H*W)xC\n",
    "print(new_features.shape)\n",
    "print(flat_features)   \n",
    "\n",
    "    \n",
    "print('Reshaped features from {0}x{1}x{2}x{3} to ({0}*{2}*{3})x{1} = {4}x{1}'.format(*features.shape, flat_features.size(0)))"
   ],
   "metadata": {
    "collapsed": false,
    "pycharm": {
     "name": "#%%\n"
    }
   }
  },
  {
   "cell_type": "markdown",
   "source": [
    "## Without spatial features"
   ],
   "metadata": {
    "collapsed": false,
    "pycharm": {
     "name": "#%% md\n"
    }
   }
  },
  {
   "cell_type": "code",
   "execution_count": null,
   "outputs": [],
   "source": [
    "with torch.no_grad(): \n",
    "    features = net.conv1(images)\n",
    "    features = net.conv2(features)\n",
    "    features = net.bn1(features)\n",
    "    features = net.layer1(features) \n",
    "    features = net.layer2(features)\n",
    "    features = net.layer3._modules[\"0\"](features)\n",
    "    #features = net.layer3._modules[\"1\"](features)\n",
    "    #features = net.layer3._modules[\"2\"](features)\n",
    "    #features = net.layer3(features)\n",
    "    #features = net.layer4(features)\n",
    "    \n",
    "    flat_features = features.permute(0, 2, 3, 1).contiguous().view((-1, features.size(1))) # NxCxHxW -> (N*H*W)xC\n",
    "    \n",
    "print('Reshaped features from {0}x{1}x{2}x{3} to ({0}*{2}*{3})x{1} = {4}x{1}'.format(*features.shape, flat_features.size(0)))"
   ],
   "metadata": {
    "collapsed": false,
    "pycharm": {
     "name": "#%%\n"
    }
   }
  },
  {
   "cell_type": "code",
   "execution_count": null,
   "outputs": [],
   "source": [
    "show = 5\n",
    "# Show original images\n",
    "show_heatmaps(raw_images[:show], None, 0, enhance=1)\n",
    "\n",
    "# Run NMF with K=(1,2,3,4) Note: the permutation of factors is random and is not consistent across iterations\n",
    "for K in range(1,5):\n",
    "    with torch.no_grad():\n",
    "        W, H = NMF(flat_features, K, random_seed=0, cuda=cuda, max_iter=100)\n",
    "\n",
    "    heatmaps = W.cpu().view(features.size(0), features.size(2), features.size(3), K).permute(0,3,1,2) # (N*H*W)xK -> NxKxHxW\n",
    "    print(heatmaps.shape)\n",
    "    heatmaps = heatmaps[:show]\n",
    "    heatmaps = torch.nn.functional.interpolate(heatmaps, size=size, mode='nearest', align_corners=None) ## 14x14 -> 224x224\n",
    "    heatmaps /= heatmaps.max(dim=3, keepdim=True)[0].max(dim=2, keepdim=True)[0] # normalize by factor (i.e., 1 of K)\n",
    "    heatmaps = heatmaps.cpu().numpy()\n",
    "    \n",
    "    # Show heat maps\n",
    "    show_heatmaps(raw_images[:show], heatmaps, K,  title='$k$ = {}'.format(K), enhance=0.3) "
   ],
   "metadata": {
    "collapsed": false,
    "pycharm": {
     "name": "#%%\n"
    }
   }
  },
  {
   "cell_type": "markdown",
   "source": [
    "# ResNet50"
   ],
   "metadata": {
    "collapsed": false
   }
  },
  {
   "cell_type": "code",
   "execution_count": null,
   "outputs": [],
   "source": [
    "net = models.resnet50(pretrained=True) # load pre-trained bagnet-19\n",
    "if cuda:\n",
    "    net = net.cuda()\n",
    "for name, parameter in net.named_parameters():\n",
    "    print(name)"
   ],
   "metadata": {
    "collapsed": false,
    "pycharm": {
     "name": "#%%\n"
    }
   }
  },
  {
   "cell_type": "code",
   "execution_count": null,
   "outputs": [],
   "source": [
    "with torch.no_grad(): \n",
    "    features = net.conv1(images)\n",
    "    #features = net.conv2(features)\n",
    "    features = net.bn1(features)\n",
    "    features = net.layer1(features) \n",
    "    features = net.layer2(features)\n",
    "    features = net.layer3._modules[\"0\"](features)\n",
    "    features = net.layer3._modules[\"1\"](features)\n",
    "    #features = net.layer3._modules[\"2\"](features)\n",
    "    #features = net.layer3(features)\n",
    "    #features = net.layer4(features)\n",
    "    \n",
    "    flat_features = features.permute(0, 2, 3, 1).contiguous().view((-1, features.size(1))) # NxCxHxW -> (N*H*W)xC\n",
    "    \n",
    "print('Reshaped features from {0}x{1}x{2}x{3} to ({0}*{2}*{3})x{1} = {4}x{1}'.format(*features.shape, flat_features.size(0)))"
   ],
   "metadata": {
    "collapsed": false,
    "pycharm": {
     "name": "#%%\n"
    }
   }
  },
  {
   "cell_type": "markdown",
   "source": [
    "### Factorize activations with NMF"
   ],
   "metadata": {
    "collapsed": false
   }
  },
  {
   "cell_type": "code",
   "execution_count": null,
   "outputs": [],
   "source": [
    "# Show original images\n",
    "show  = 5\n",
    "show_heatmaps(raw_images[:show], None, 0, enhance=1)\n",
    "\n",
    "# Run NMF with K=(1,2,3,4) Note: the permutation of factors is random and is not consistent across iterations\n",
    "for K in range(1,5):\n",
    "    with torch.no_grad():\n",
    "        W, _ = NMF(flat_features, K, random_seed=0, cuda=cuda, max_iter=50)\n",
    "\n",
    "    heatmaps = W.cpu().view(features.size(0), features.size(2), features.size(3), K).permute(0,3,1,2) # (N*H*W)xK -> NxKxHxW\n",
    "    heatmaps = torch.nn.functional.interpolate(heatmaps, size=size, mode='bilinear', align_corners=False) ## 14x14 -> 224x224\n",
    "    heatmaps /= heatmaps.max(dim=3, keepdim=True)[0].max(dim=2, keepdim=True)[0] # normalize by factor (i.e., 1 of K)\n",
    "    heatmaps = heatmaps.cpu().numpy()\n",
    "    \n",
    "    # Show heat maps\n",
    "    show_heatmaps(raw_images[:show], heatmaps, K,  title='$k$ = {}'.format(K), enhance=0.3)\n"
   ],
   "metadata": {
    "collapsed": false,
    "pycharm": {
     "name": "#%%\n"
    }
   }
  },
  {
   "cell_type": "markdown",
   "source": [
    "# K- means"
   ],
   "metadata": {
    "collapsed": false,
    "pycharm": {
     "name": "#%% md\n"
    }
   }
  },
  {
   "cell_type": "code",
   "execution_count": null,
   "outputs": [],
   "source": [
    "show = 5\n",
    "# Show original images\n",
    "show_heatmaps(raw_images[5:show+5], None, 0, enhance=1)\n",
    "\n",
    "# Run NMF with K=(1,2,3,4) Note: the permutation of factors is random and is not consistent across iterations\n",
    "for K in range(2,7):\n",
    "    kmeans = KMeans(n_clusters=K, random_state=0).fit(flat_features.cpu())\n",
    "    targets = kmeans.labels_ \n",
    "    #targets, _ = kmeans(X=flat_features, num_clusters=K, distance='cosine', device=torch.device('cuda:0'))\n",
    "    print(targets)\n",
    "    W = torch.zeros([len(targets), K]) \n",
    "    W[range(W.shape[0]), targets]=0.2\n",
    "        \n",
    "\n",
    "    heatmaps = W.cpu().view(features.size(0), features.size(2), features.size(3), K).permute(0,3,1,2) # (N*H*W)xK -> NxKxHxW\n",
    "    heatmaps = heatmaps[5:show+5]\n",
    "    heatmaps = torch.nn.functional.interpolate(heatmaps, size=size, mode='nearest', align_corners=None) ## 14x14 -> 224x224\n",
    "    heatmaps /= heatmaps.max(dim=3, keepdim=True)[0].max(dim=2, keepdim=True)[0] # normalize by factor (i.e., 1 of K)\n",
    "    heatmaps = heatmaps.cpu().numpy()\n",
    "    \n",
    "    # Show heat maps\n",
    "    show_heatmaps(raw_images[:show], heatmaps, K,  title='$k$ = {}'.format(K), enhance=0.3)"
   ],
   "metadata": {
    "collapsed": false,
    "pycharm": {
     "name": "#%%\n"
    }
   }
  }
 ],
 "metadata": {
  "kernelspec": {
   "display_name": "Python 3",
   "language": "python",
   "name": "python3"
  },
  "language_info": {
   "codemirror_mode": {
    "name": "ipython",
    "version": 2
   },
   "file_extension": ".py",
   "mimetype": "text/x-python",
   "name": "python",
   "nbconvert_exporter": "python",
   "pygments_lexer": "ipython2",
   "version": "2.7.6"
  },
  "pycharm": {
   "stem_cell": {
    "cell_type": "raw",
    "source": [],
    "metadata": {
     "collapsed": false
    }
   }
  }
 },
 "nbformat": 4,
 "nbformat_minor": 0
}